{
 "cells": [
  {
   "cell_type": "code",
   "execution_count": 1,
   "metadata": {},
   "outputs": [],
   "source": [
    "import numpy as np\n",
    "import pandas as pd\n",
    "import importlib\n",
    "import os\n",
    "import sys\n",
    "import re\n",
    "import json\n",
    "import matplotlib.pyplot as plt\n",
    "import data_path  # 路径\n",
    "import data_cleaning\n",
    "from read_data import readCSV, read_xlrd, readCsvWithPandas\n",
    "from datetime import datetime\n",
    "from xlrd import xldate_as_tuple\n",
    "from show_Kpis import getKpis\n",
    "import anomaly_detection\n",
    "import network\n",
    "import resultForm"
   ]
  },
  {
   "cell_type": "code",
   "execution_count": 2,
   "metadata": {},
   "outputs": [],
   "source": [
    "kpi_opened = {}\n",
    "left_n = 10  # 保留几个结果\n",
    "# 是否是执行者调用\n",
    "isExecutor = {\"JDBC\": False, \"LOCAL\": False, \"CSF\": False,\n",
    "              \"FlyRemote\": True, \"OSB\": True, \"RemoteProcess\": True}\n",
    "# 哪一天的数据\n",
    "days = ['2020_04_23','2020_04_26']\n",
    "# days=['2020_04_21']"
   ]
  },
  {
   "cell_type": "code",
   "execution_count": 3,
   "metadata": {},
   "outputs": [],
   "source": [
    "def find_abnormal_indicators(execption_Interval, cmdb_id,paths):\n",
    "    \"\"\"[该时间区间内那个指标错误]\n",
    "\n",
    "    Args:\n",
    "        execption_Interval ([type]): [时间区间]\n",
    "        cmdb_id ([type]): [网源]\n",
    "        paths list: [path1,path2]\n",
    "    \"\"\"\n",
    "    kpis = {}\n",
    "    abnormal_indicators = []\n",
    "    # os,docker,db\n",
    "    file_name = data_path.fileNames[cmdb_id.split('_')[0]]\n",
    "    # file_path = os.path.join(data_path.get_data_path(),\"平台指标\",file_name)\n",
    "    # 查看当前文件是否已经分解\n",
    "    if kpi_opened.get(file_name) == None:\n",
    "        for p in paths:\n",
    "            kpis=getKpis([file_name],p,kpis)\n",
    "        kpi_opened[file_name] = kpis\n",
    "    else:\n",
    "        kpis = kpi_opened[file_name]\n",
    "    # 逐个指标的进行判断\n",
    "    for k, v in kpis.items():\n",
    "        temp = k.split(',')  # (cmdb_id,name,bomc_id,itemid)\n",
    "        if cmdb_id == temp[0]:\n",
    "            # todo 进行异常评估，给出得分\n",
    "            score = anomaly_detection_func(execption_Interval, np.array(v))\n",
    "            abnormal_indicators.append([temp[0], temp[1], temp[2], score])\n",
    "    # 排序返回得分最高的三个\n",
    "    return abnormal_indicators"
   ]
  },
  {
   "cell_type": "code",
   "execution_count": 4,
   "metadata": {},
   "outputs": [],
   "source": [
    "def anomaly_detection_func(execption_Interval, data):\n",
    "    \"\"\"[异常检测算法]\n",
    "\n",
    "    Args:\n",
    "        execption_Interval ([tutle]): [时间区间(start_time,end_time)]\n",
    "        data ([type]): [itemid,name,bomc_id,timestamp,valuee,cmdb_id]\n",
    "    \"\"\"\n",
    "    data = pd.DataFrame(data)\n",
    "    data.columns = ['itemid', 'name', 'bomc_id',\n",
    "                    'timestamp', 'value', 'cmdb_id']\n",
    "    # 根据时间戳排序\n",
    "    data.sort_values(\"timestamp\", inplace=True)\n",
    "    # 得到预测值\n",
    "    pred = anomaly_detection.iforest(data, [\"value\"])\n",
    "    data['pred'] = pred\n",
    "    # data.to_csv('outliers2.csv', columns=[\"timestamp\",'value',\"pred\", ], header=False)\n",
    "    timestamps = data['timestamp'].values.astype(np.int64)\n",
    "    total, abnormal_data_total = 0, 0\n",
    "    for timestamp, pred_num in zip(timestamps, pred):\n",
    "        if timestamp < execption_Interval[1] and timestamp > execption_Interval[0]:\n",
    "            total += 1\n",
    "            abnormal_data_total += 1 if pred_num == -1 else 0\n",
    "\n",
    "    return abnormal_data_total"
   ]
  },
  {
   "cell_type": "code",
   "execution_count": 5,
   "metadata": {},
   "outputs": [],
   "source": [
    "def find_abnormal_span(trace):\n",
    "    \"\"\"按照图的遍历方式遍历trace中的所有span\\n\n",
    "    Args:\n",
    "        trace ([dict]): 一条trace，格式{ startTime:str,{spanId:{},spanId:{}}}        \\n\n",
    "    Returns:\n",
    "        [list]: 返回异常节点       \\n\n",
    "    \"\"\"\n",
    "    spans = trace['spans']\n",
    "    graph = data_cleaning.generateGraph(spans)\n",
    "    if graph.get('root') == None:\n",
    "        return []\n",
    "    abnormal_cmdb_ids = []\n",
    "    Break = True\n",
    "    # isError代表上溯的节点是否有异常\n",
    "\n",
    "    def traverse(root_id, abn_ids, isError=False):\n",
    "        root = spans[root_id]\n",
    "        # 如果上溯有异常或本身有异常\n",
    "        if isError or root['success'] == 'False':\n",
    "            # 当发现是数据库出现问题时，将其他的清空，只保存数据库cmdb_id,并退出递归\n",
    "            if root['db'] and root['success'] == 'False':\n",
    "                abn_ids.clear()\n",
    "                abn_ids.append(root[\"db\"])\n",
    "                return Break\n",
    "            # 找出上一个失败的下一个成功\n",
    "            if isExecutor[root['callType']] and root['callType'] != 'OSB' \\\n",
    "                    and root['success'] == 'True':\n",
    "                abn_ids.clear()\n",
    "                abn_ids.append(root[\"cmdb_id\"])\n",
    "        isError = root['success'] == 'False'\n",
    "        # 如果没有子节点，直接返回\n",
    "        if graph.get(root_id) == None:\n",
    "            return not Break\n",
    "        for span_id in graph[root_id]:\n",
    "            if traverse(span_id, abn_ids, isError) == Break:\n",
    "                return Break\n",
    "        return not Break\n",
    "\n",
    "    for span_id in graph.get('root'):\n",
    "        abn_ids = []\n",
    "        traverse(span_id, abn_ids)\n",
    "        abnormal_cmdb_ids += abn_ids\n",
    "    return abnormal_cmdb_ids"
   ]
  },
  {
   "cell_type": "code",
   "execution_count": 6,
   "metadata": {},
   "outputs": [],
   "source": [
    "def find_abnormal_trace(execption_Interval, traces):\n",
    "    \"\"\"找到改异常区间内所有trace\n",
    "\n",
    "    Args:\n",
    "        execption_Interval ([type]): [时间区间]\n",
    "        traces ([type]): [description]\n",
    "    \"\"\"\n",
    "    abnormal_trace = []\n",
    "    for trace in traces.values():\n",
    "        startTime = int(trace['startTime'])\n",
    "        if startTime > execption_Interval[0] and startTime < execption_Interval[1]:\n",
    "            abnormal_trace.append(trace)\n",
    "    return abnormal_trace"
   ]
  },
  {
   "cell_type": "code",
   "execution_count": 7,
   "metadata": {},
   "outputs": [],
   "source": [
    "def to_standard_answer(result,fault_ids):\n",
    "    answer = {}\n",
    "    # 异常时间段\n",
    "    for fault_id, a_result in zip(fault_ids,result):\n",
    "        if len(a_result)==0 or (len(a_result)==1 and len(a_result[0])==0):\n",
    "            continue\n",
    "        cmdb = a_result[0][0].split(\"_\")[0] # docker\n",
    "        answer[fault_id]=[ cmdb, a_result[0][0] ] # docker_001\n",
    "        if len(a_result)==1:\n",
    "            answer[fault_id].extend(a_result[0][1:])\n",
    "            answer[fault_id].append([None])\n",
    "        else:\n",
    "        # 每一个异常时间段有多个指标\n",
    "            indicator_list = [an_indicator[1] for an_indicator in a_result]\n",
    "            answer[fault_id].append(indicator_list)\n",
    "    return answer"
   ]
  },
  {
   "cell_type": "code",
   "execution_count": 9,
   "metadata": {},
   "outputs": [],
   "source": [
    "def get_abnormal_interval(days):\n",
    "    business_paths = [os.path.join(data_path.get_data_path(day), \"业务指标\", \"esb.csv\") for day in days]\n",
    "    # 获取业务指标数据，去掉表头,np.array\n",
    "    data = None\n",
    "    for p in business_paths:\n",
    "        data = pd.concat([data,pd.read_csv(p)],ignore_index=True)\n",
    "    data = data.values\n",
    "    # 根据时间序列排序\n",
    "    data = data[np.argsort(data[:, 1])]\n",
    "    # todo step1 异常时间序列\n",
    "    # 异常数据\n",
    "    abnormal_data = anomaly_detection.find_abnormal_data(data)\n",
    "    # 异常时间序列\n",
    "    execption_times = abnormal_data[:, 1].astype(np.int64)\n",
    "    #! 异常时间区间\n",
    "    # interval_times = anomaly_detection.to_interval(execption_times)\n",
    "    interval_times,fault_ids = anomaly_detection.fault_time(bias=1*60*100,file_day=days[0],type=2)\n",
    "    #! 对应时间区间是否是网络故障\n",
    "    is_net_error = anomaly_detection.is_net_error_func(interval_times,abnormal_data)\n",
    "    print(len(interval_times))\n",
    "    period_times = anomaly_detection.fault_time()\n",
    "    for i,j in zip(interval_times,is_net_error):\n",
    "        print(i,j)\n",
    "    # 画出找到的异常区间\n",
    "    anomaly_detection.draw_abnormal_period(data, interval_times)\n",
    "\n",
    "    return interval_times,is_net_error,fault_ids"
   ]
  },
  {
   "cell_type": "markdown",
   "metadata": {},
   "source": [
    "# 开始运行"
   ]
  },
  {
   "cell_type": "code",
   "execution_count": 10,
   "metadata": {},
   "outputs": [
    {
     "output_type": "stream",
     "name": "stdout",
     "text": "1 2\n13\n5 6\n[1587577620000, 1587577926000] False\n[1587584820000, 1587585126000] False\n[1587588420000, 1587588726000] False\n[1587831180000, 1587831486000] False\n[1587832980000, 1587833286000] False\n[1587836580000, 1587836886000] True\n[1587838380000, 1587838686000] False\n[1587840180000, 1587840486000] False\n[1587843780000, 1587844086000] False\n[1587845580000, 1587845886000] False\n[1587847380000, 1587847686000] True\n[1587849180000, 1587849486000] False\n[1587850980000, 1587851286000] True\n"
    },
    {
     "output_type": "display_data",
     "data": {
      "text/plain": "<Figure size 576x360 with 2 Axes>",
      "image/svg+xml": "<?xml version=\"1.0\" encoding=\"utf-8\" standalone=\"no\"?>\r\n<!DOCTYPE svg PUBLIC \"-//W3C//DTD SVG 1.1//EN\"\r\n  \"http://www.w3.org/Graphics/SVG/1.1/DTD/svg11.dtd\">\r\n<!-- Created with matplotlib (https://matplotlib.org/) -->\r\n<svg height=\"304.288095pt\" version=\"1.1\" viewBox=\"0 0 485.392187 304.288095\" width=\"485.392187pt\" xmlns=\"http://www.w3.org/2000/svg\" xmlns:xlink=\"http://www.w3.org/1999/xlink\">\r\n <defs>\r\n  <style type=\"text/css\">\r\n*{stroke-linecap:butt;stroke-linejoin:round;}\r\n  </style>\r\n </defs>\r\n <g id=\"figure_1\">\r\n  <g id=\"patch_1\">\r\n   <path d=\"M 0 304.288095 \r\nL 485.392187 304.288095 \r\nL 485.392187 0 \r\nL 0 0 \r\nz\r\n\" style=\"fill:none;\"/>\r\n  </g>\r\n  <g id=\"axes_1\">\r\n   <g id=\"patch_2\">\r\n    <path d=\"M 31.792187 131.353862 \r\nL 478.192187 131.353862 \r\nL 478.192187 7.808408 \r\nL 31.792187 7.808408 \r\nz\r\n\" style=\"fill:#ffffff;\"/>\r\n   </g>\r\n   <g id=\"matplotlib.axis_1\">\r\n    <g id=\"xtick_1\">\r\n     <g id=\"line2d_1\">\r\n      <defs>\r\n       <path d=\"M 0 0 \r\nL 0 3.5 \r\n\" id=\"m417107c5b4\" style=\"stroke:#000000;stroke-width:0.8;\"/>\r\n      </defs>\r\n      <g>\r\n       <use style=\"stroke:#000000;stroke-width:0.8;\" x=\"52.083097\" xlink:href=\"#m417107c5b4\" y=\"131.353862\"/>\r\n      </g>\r\n     </g>\r\n     <g id=\"text_1\">\r\n      <!-- 0 -->\r\n      <defs>\r\n       <path d=\"M 4.4375 36.328125 \r\nQ 4.4375 56.34375 11.078125 66.625 \r\nQ 17.71875 76.90625 30.328125 76.90625 \r\nQ 54.34375 76.90625 54.34375 38.140625 \r\nQ 54.34375 19 47.578125 8.859375 \r\nQ 40.828125 -1.265625 28.609375 -1.265625 \r\nQ 17.09375 -1.265625 10.765625 8.34375 \r\nQ 4.4375 17.96875 4.4375 36.328125 \r\nz\r\nM 14.203125 36.765625 \r\nQ 14.203125 6.640625 29.5 6.640625 \r\nQ 44.53125 6.640625 44.53125 37.25 \r\nQ 44.53125 68.953125 29.78125 68.953125 \r\nQ 14.203125 68.953125 14.203125 36.765625 \r\nz\r\n\" id=\"MicrosoftYaHei-48\"/>\r\n      </defs>\r\n      <g transform=\"translate(49.151065 146.347612)scale(0.1 -0.1)\">\r\n       <use xlink:href=\"#MicrosoftYaHei-48\"/>\r\n      </g>\r\n     </g>\r\n    </g>\r\n    <g id=\"xtick_2\">\r\n     <g id=\"line2d_2\">\r\n      <g>\r\n       <use style=\"stroke:#000000;stroke-width:0.8;\" x=\"106.120138\" xlink:href=\"#m417107c5b4\" y=\"131.353862\"/>\r\n      </g>\r\n     </g>\r\n     <g id=\"text_2\">\r\n      <!-- 100 -->\r\n      <defs>\r\n       <path d=\"M 52.59375 0 \r\nL 9.234375 0 \r\nL 9.234375 8.25 \r\nL 26.171875 8.25 \r\nL 26.171875 65.671875 \r\nL 8.796875 60.640625 \r\nL 8.796875 69.4375 \r\nL 35.6875 77.25 \r\nL 35.6875 8.25 \r\nL 52.59375 8.25 \r\nz\r\n\" id=\"MicrosoftYaHei-49\"/>\r\n      </defs>\r\n      <g transform=\"translate(97.324044 146.347612)scale(0.1 -0.1)\">\r\n       <use xlink:href=\"#MicrosoftYaHei-49\"/>\r\n       <use x=\"58.642578\" xlink:href=\"#MicrosoftYaHei-48\"/>\r\n       <use x=\"117.285156\" xlink:href=\"#MicrosoftYaHei-48\"/>\r\n      </g>\r\n     </g>\r\n    </g>\r\n    <g id=\"xtick_3\">\r\n     <g id=\"line2d_3\">\r\n      <g>\r\n       <use style=\"stroke:#000000;stroke-width:0.8;\" x=\"160.15718\" xlink:href=\"#m417107c5b4\" y=\"131.353862\"/>\r\n      </g>\r\n     </g>\r\n     <g id=\"text_3\">\r\n      <!-- 200 -->\r\n      <defs>\r\n       <path d=\"M 51.171875 0 \r\nL 5.171875 0 \r\nL 5.171875 8.296875 \r\nL 27.15625 30.21875 \r\nQ 36.234375 39.3125 39.3125 44.609375 \r\nQ 42.390625 49.90625 42.390625 55.5625 \r\nQ 42.390625 62.015625 38.765625 65.453125 \r\nQ 35.15625 68.890625 28.328125 68.890625 \r\nQ 18.21875 68.890625 9.03125 60.296875 \r\nL 9.03125 70.015625 \r\nQ 17.96875 76.90625 29.828125 76.90625 \r\nQ 40.046875 76.90625 45.953125 71.390625 \r\nQ 51.859375 65.875 51.859375 56.546875 \r\nQ 51.859375 49.515625 48.0625 42.75 \r\nQ 44.28125 35.984375 33.734375 25.53125 \r\nL 16.5 8.6875 \r\nL 16.5 8.5 \r\nL 51.171875 8.5 \r\nz\r\n\" id=\"MicrosoftYaHei-50\"/>\r\n      </defs>\r\n      <g transform=\"translate(151.361086 146.347612)scale(0.1 -0.1)\">\r\n       <use xlink:href=\"#MicrosoftYaHei-50\"/>\r\n       <use x=\"58.642578\" xlink:href=\"#MicrosoftYaHei-48\"/>\r\n       <use x=\"117.285156\" xlink:href=\"#MicrosoftYaHei-48\"/>\r\n      </g>\r\n     </g>\r\n    </g>\r\n    <g id=\"xtick_4\">\r\n     <g id=\"line2d_4\">\r\n      <g>\r\n       <use style=\"stroke:#000000;stroke-width:0.8;\" x=\"214.194221\" xlink:href=\"#m417107c5b4\" y=\"131.353862\"/>\r\n      </g>\r\n     </g>\r\n     <g id=\"text_4\">\r\n      <!-- 300 -->\r\n      <defs>\r\n       <path d=\"M 6.984375 12.640625 \r\nQ 14.75 6.640625 24.515625 6.640625 \r\nQ 32.328125 6.640625 36.890625 10.46875 \r\nQ 41.453125 14.3125 41.453125 20.75 \r\nQ 41.453125 35.109375 20.90625 35.109375 \r\nL 14.59375 35.109375 \r\nL 14.59375 43.015625 \r\nL 20.609375 43.015625 \r\nQ 38.8125 43.015625 38.8125 56.5 \r\nQ 38.8125 68.953125 24.90625 68.953125 \r\nQ 16.9375 68.953125 9.90625 63.578125 \r\nL 9.90625 72.609375 \r\nQ 17.328125 76.90625 27.25 76.90625 \r\nQ 36.921875 76.90625 42.78125 71.84375 \r\nQ 48.640625 66.796875 48.640625 58.734375 \r\nQ 48.640625 43.890625 33.5 39.65625 \r\nL 33.5 39.453125 \r\nQ 41.703125 38.578125 46.453125 33.671875 \r\nQ 51.21875 28.765625 51.21875 21.4375 \r\nQ 51.21875 11.234375 43.875 4.984375 \r\nQ 36.53125 -1.265625 24.3125 -1.265625 \r\nQ 13.578125 -1.265625 6.984375 2.734375 \r\nz\r\n\" id=\"MicrosoftYaHei-51\"/>\r\n      </defs>\r\n      <g transform=\"translate(205.398127 146.347612)scale(0.1 -0.1)\">\r\n       <use xlink:href=\"#MicrosoftYaHei-51\"/>\r\n       <use x=\"58.642578\" xlink:href=\"#MicrosoftYaHei-48\"/>\r\n       <use x=\"117.285156\" xlink:href=\"#MicrosoftYaHei-48\"/>\r\n      </g>\r\n     </g>\r\n    </g>\r\n    <g id=\"xtick_5\">\r\n     <g id=\"line2d_5\">\r\n      <g>\r\n       <use style=\"stroke:#000000;stroke-width:0.8;\" x=\"268.231263\" xlink:href=\"#m417107c5b4\" y=\"131.353862\"/>\r\n      </g>\r\n     </g>\r\n     <g id=\"text_5\">\r\n      <!-- 400 -->\r\n      <defs>\r\n       <path d=\"M 55.078125 19.625 \r\nL 45.40625 19.625 \r\nL 45.40625 0 \r\nL 36.140625 0 \r\nL 36.140625 19.625 \r\nL 0.875 19.625 \r\nL 0.875 25.828125 \r\nL 34.328125 75.640625 \r\nL 45.40625 75.640625 \r\nL 45.40625 27.203125 \r\nL 55.078125 27.203125 \r\nz\r\nM 36.140625 27.203125 \r\nL 36.140625 58.890625 \r\nQ 36.140625 62.25 36.328125 66.65625 \r\nL 36.140625 66.65625 \r\nQ 35.453125 64.796875 33.25 60.84375 \r\nL 10.75 27.203125 \r\nz\r\n\" id=\"MicrosoftYaHei-52\"/>\r\n      </defs>\r\n      <g transform=\"translate(259.435169 146.347612)scale(0.1 -0.1)\">\r\n       <use xlink:href=\"#MicrosoftYaHei-52\"/>\r\n       <use x=\"58.642578\" xlink:href=\"#MicrosoftYaHei-48\"/>\r\n       <use x=\"117.285156\" xlink:href=\"#MicrosoftYaHei-48\"/>\r\n      </g>\r\n     </g>\r\n    </g>\r\n    <g id=\"xtick_6\">\r\n     <g id=\"line2d_6\">\r\n      <g>\r\n       <use style=\"stroke:#000000;stroke-width:0.8;\" x=\"322.268304\" xlink:href=\"#m417107c5b4\" y=\"131.353862\"/>\r\n      </g>\r\n     </g>\r\n     <g id=\"text_6\">\r\n      <!-- 500 -->\r\n      <defs>\r\n       <path d=\"M 8.640625 11.625 \r\nQ 16.265625 6.640625 24.515625 6.640625 \r\nQ 32.328125 6.640625 37.109375 11 \r\nQ 41.890625 15.375 41.890625 22.609375 \r\nQ 41.890625 29.890625 37.03125 33.890625 \r\nQ 32.171875 37.890625 22.953125 37.890625 \r\nQ 18.5 37.890625 10.984375 37.203125 \r\nL 10.984375 75.640625 \r\nL 48.1875 75.640625 \r\nL 48.1875 67.1875 \r\nL 19.875 67.1875 \r\nL 19.875 45.796875 \r\nQ 24.125 46.046875 26.265625 46.046875 \r\nQ 38.234375 46.046875 44.921875 39.984375 \r\nQ 51.609375 33.9375 51.609375 23.296875 \r\nQ 51.609375 12.3125 44.421875 5.515625 \r\nQ 37.25 -1.265625 24.609375 -1.265625 \r\nQ 14.015625 -1.265625 8.640625 1.859375 \r\nz\r\n\" id=\"MicrosoftYaHei-53\"/>\r\n      </defs>\r\n      <g transform=\"translate(313.47221 146.347612)scale(0.1 -0.1)\">\r\n       <use xlink:href=\"#MicrosoftYaHei-53\"/>\r\n       <use x=\"58.642578\" xlink:href=\"#MicrosoftYaHei-48\"/>\r\n       <use x=\"117.285156\" xlink:href=\"#MicrosoftYaHei-48\"/>\r\n      </g>\r\n     </g>\r\n    </g>\r\n    <g id=\"xtick_7\">\r\n     <g id=\"line2d_7\">\r\n      <g>\r\n       <use style=\"stroke:#000000;stroke-width:0.8;\" x=\"376.305346\" xlink:href=\"#m417107c5b4\" y=\"131.353862\"/>\r\n      </g>\r\n     </g>\r\n     <g id=\"text_7\">\r\n      <!-- 600 -->\r\n      <defs>\r\n       <path d=\"M 49.703125 65.921875 \r\nQ 43.796875 68.953125 37.359375 68.953125 \r\nQ 27.546875 68.953125 21.578125 60.40625 \r\nQ 15.625 51.859375 15.53125 37.0625 \r\nL 15.765625 37.0625 \r\nQ 21.140625 47.46875 32.90625 47.46875 \r\nQ 42.71875 47.46875 48.578125 41.0625 \r\nQ 54.4375 34.671875 54.4375 24.078125 \r\nQ 54.4375 12.984375 47.671875 5.859375 \r\nQ 40.921875 -1.265625 30.421875 -1.265625 \r\nQ 18.890625 -1.265625 12.328125 7.734375 \r\nQ 5.765625 16.75 5.765625 33.296875 \r\nQ 5.765625 53.328125 14.375 65.109375 \r\nQ 23 76.90625 37.0625 76.90625 \r\nQ 45.125 76.90625 49.703125 74.703125 \r\nz\r\nM 16.109375 24.75 \r\nQ 16.109375 17.28125 20.09375 11.953125 \r\nQ 24.078125 6.640625 30.671875 6.640625 \r\nQ 36.921875 6.640625 40.828125 11.234375 \r\nQ 44.734375 15.828125 44.734375 23.046875 \r\nQ 44.734375 30.859375 41.046875 35.203125 \r\nQ 37.359375 39.546875 30.5625 39.546875 \r\nQ 24.125 39.546875 20.109375 35.15625 \r\nQ 16.109375 30.765625 16.109375 24.75 \r\nz\r\n\" id=\"MicrosoftYaHei-54\"/>\r\n      </defs>\r\n      <g transform=\"translate(367.509252 146.347612)scale(0.1 -0.1)\">\r\n       <use xlink:href=\"#MicrosoftYaHei-54\"/>\r\n       <use x=\"58.642578\" xlink:href=\"#MicrosoftYaHei-48\"/>\r\n       <use x=\"117.285156\" xlink:href=\"#MicrosoftYaHei-48\"/>\r\n      </g>\r\n     </g>\r\n    </g>\r\n    <g id=\"xtick_8\">\r\n     <g id=\"line2d_8\">\r\n      <g>\r\n       <use style=\"stroke:#000000;stroke-width:0.8;\" x=\"430.342387\" xlink:href=\"#m417107c5b4\" y=\"131.353862\"/>\r\n      </g>\r\n     </g>\r\n     <g id=\"text_8\">\r\n      <!-- 700 -->\r\n      <defs>\r\n       <path d=\"M 53.765625 72.3125 \r\nL 24.171875 0 \r\nL 14.265625 0 \r\nL 42.390625 67.1875 \r\nL 4.59375 67.1875 \r\nL 4.59375 75.640625 \r\nL 53.765625 75.640625 \r\nz\r\n\" id=\"MicrosoftYaHei-55\"/>\r\n      </defs>\r\n      <g transform=\"translate(421.546293 146.347612)scale(0.1 -0.1)\">\r\n       <use xlink:href=\"#MicrosoftYaHei-55\"/>\r\n       <use x=\"58.642578\" xlink:href=\"#MicrosoftYaHei-48\"/>\r\n       <use x=\"117.285156\" xlink:href=\"#MicrosoftYaHei-48\"/>\r\n      </g>\r\n     </g>\r\n    </g>\r\n   </g>\r\n   <g id=\"matplotlib.axis_2\">\r\n    <g id=\"ytick_1\">\r\n     <g id=\"line2d_9\">\r\n      <defs>\r\n       <path d=\"M 0 0 \r\nL -3.5 0 \r\n\" id=\"m9248fd8a69\" style=\"stroke:#000000;stroke-width:0.8;\"/>\r\n      </defs>\r\n      <g>\r\n       <use style=\"stroke:#000000;stroke-width:0.8;\" x=\"31.792187\" xlink:href=\"#m9248fd8a69\" y=\"125.73816\"/>\r\n      </g>\r\n     </g>\r\n     <g id=\"text_9\">\r\n      <!-- 0 -->\r\n      <g transform=\"translate(18.928125 129.735035)scale(0.1 -0.1)\">\r\n       <use xlink:href=\"#MicrosoftYaHei-48\"/>\r\n      </g>\r\n     </g>\r\n    </g>\r\n    <g id=\"ytick_2\">\r\n     <g id=\"line2d_10\">\r\n      <g>\r\n       <use style=\"stroke:#000000;stroke-width:0.8;\" x=\"31.792187\" xlink:href=\"#m9248fd8a69\" y=\"102.829903\"/>\r\n      </g>\r\n     </g>\r\n     <g id=\"text_10\">\r\n      <!-- 25 -->\r\n      <g transform=\"translate(13.064062 106.826778)scale(0.1 -0.1)\">\r\n       <use xlink:href=\"#MicrosoftYaHei-50\"/>\r\n       <use x=\"58.642578\" xlink:href=\"#MicrosoftYaHei-53\"/>\r\n      </g>\r\n     </g>\r\n    </g>\r\n    <g id=\"ytick_3\">\r\n     <g id=\"line2d_11\">\r\n      <g>\r\n       <use style=\"stroke:#000000;stroke-width:0.8;\" x=\"31.792187\" xlink:href=\"#m9248fd8a69\" y=\"79.921646\"/>\r\n      </g>\r\n     </g>\r\n     <g id=\"text_11\">\r\n      <!-- 50 -->\r\n      <g transform=\"translate(13.064062 83.918521)scale(0.1 -0.1)\">\r\n       <use xlink:href=\"#MicrosoftYaHei-53\"/>\r\n       <use x=\"58.642578\" xlink:href=\"#MicrosoftYaHei-48\"/>\r\n      </g>\r\n     </g>\r\n    </g>\r\n    <g id=\"ytick_4\">\r\n     <g id=\"line2d_12\">\r\n      <g>\r\n       <use style=\"stroke:#000000;stroke-width:0.8;\" x=\"31.792187\" xlink:href=\"#m9248fd8a69\" y=\"57.013389\"/>\r\n      </g>\r\n     </g>\r\n     <g id=\"text_12\">\r\n      <!-- 75 -->\r\n      <g transform=\"translate(13.064062 61.010264)scale(0.1 -0.1)\">\r\n       <use xlink:href=\"#MicrosoftYaHei-55\"/>\r\n       <use x=\"58.642578\" xlink:href=\"#MicrosoftYaHei-53\"/>\r\n      </g>\r\n     </g>\r\n    </g>\r\n    <g id=\"ytick_5\">\r\n     <g id=\"line2d_13\">\r\n      <g>\r\n       <use style=\"stroke:#000000;stroke-width:0.8;\" x=\"31.792187\" xlink:href=\"#m9248fd8a69\" y=\"34.105132\"/>\r\n      </g>\r\n     </g>\r\n     <g id=\"text_13\">\r\n      <!-- 100 -->\r\n      <g transform=\"translate(7.2 38.102007)scale(0.1 -0.1)\">\r\n       <use xlink:href=\"#MicrosoftYaHei-49\"/>\r\n       <use x=\"58.642578\" xlink:href=\"#MicrosoftYaHei-48\"/>\r\n       <use x=\"117.285156\" xlink:href=\"#MicrosoftYaHei-48\"/>\r\n      </g>\r\n     </g>\r\n    </g>\r\n    <g id=\"ytick_6\">\r\n     <g id=\"line2d_14\">\r\n      <g>\r\n       <use style=\"stroke:#000000;stroke-width:0.8;\" x=\"31.792187\" xlink:href=\"#m9248fd8a69\" y=\"11.196875\"/>\r\n      </g>\r\n     </g>\r\n     <g id=\"text_14\">\r\n      <!-- 125 -->\r\n      <g transform=\"translate(7.2 15.19375)scale(0.1 -0.1)\">\r\n       <use xlink:href=\"#MicrosoftYaHei-49\"/>\r\n       <use x=\"58.642578\" xlink:href=\"#MicrosoftYaHei-50\"/>\r\n       <use x=\"117.285156\" xlink:href=\"#MicrosoftYaHei-53\"/>\r\n      </g>\r\n     </g>\r\n    </g>\r\n   </g>\r\n   <g id=\"line2d_15\">\r\n    <path clip-path=\"url(#p5ba3ecb8aa)\" d=\"M 52.083097 125.11423 \r\nL 52.623467 125.27862 \r\nL 53.163837 125.156657 \r\nL 53.704208 125.299604 \r\nL 54.784949 125.241875 \r\nL 62.350134 125.192577 \r\nL 62.890505 125.287325 \r\nL 63.971246 125.193768 \r\nL 65.592357 125.171593 \r\nL 66.132727 125.248198 \r\nL 67.213468 125.188087 \r\nL 90.449396 125.152533 \r\nL 90.989766 125.09682 \r\nL 92.070507 125.182131 \r\nL 93.151248 125.20513 \r\nL 93.691619 125.244258 \r\nL 94.231989 125.135031 \r\nL 94.772359 125.223274 \r\nL 96.393471 125.117071 \r\nL 96.933841 125.229047 \r\nL 97.474211 125.153724 \r\nL 98.554952 125.206597 \r\nL 100.176064 125.19166 \r\nL 101.256804 125.199541 \r\nL 102.877916 125.193676 \r\nL 109.362361 125.15519 \r\nL 109.902731 119.981315 \r\nL 110.443101 53.146935 \r\nL 110.983472 100.358285 \r\nL 111.523842 16.01604 \r\nL 112.064213 116.813011 \r\nL 112.604583 31.243893 \r\nL 113.144954 112.858038 \r\nL 113.685324 43.668232 \r\nL 114.225694 92.539972 \r\nL 114.766065 119.772025 \r\nL 115.306435 125.046789 \r\nL 115.846806 125.167194 \r\nL 117.467917 125.133382 \r\nL 118.548658 125.172326 \r\nL 128.275325 125.172876 \r\nL 129.896436 125.167011 \r\nL 130.977177 125.083533 \r\nL 132.057918 125.215851 \r\nL 133.138659 125.185246 \r\nL 136.921252 125.214385 \r\nL 138.542363 125.10296 \r\nL 139.623104 125.277154 \r\nL 140.703845 125.182222 \r\nL 143.946067 125.269457 \r\nL 144.486438 125.103784 \r\nL 145.026808 125.271839 \r\nL 146.107549 125.22474 \r\nL 147.72866 125.090498 \r\nL 148.26903 125.204489 \r\nL 153.132364 125.232895 \r\nL 153.672735 125.319122 \r\nL 154.213105 125.171593 \r\nL 155.834216 125.257453 \r\nL 176.908663 125.297222 \r\nL 177.449033 122.600003 \r\nL 177.989403 117.971802 \r\nL 178.529774 122.508004 \r\nL 179.070144 123.227965 \r\nL 179.610515 118.405318 \r\nL 180.150885 122.755413 \r\nL 180.691255 123.487928 \r\nL 181.231626 120.585909 \r\nL 181.771996 125.228955 \r\nL 182.312367 125.127242 \r\nL 182.852737 125.266616 \r\nL 183.933478 125.147493 \r\nL 184.473848 125.270556 \r\nL 187.1757 125.232345 \r\nL 187.716071 125.294014 \r\nL 188.796812 125.194593 \r\nL 189.337182 125.155282 \r\nL 190.417923 125.238943 \r\nL 191.498664 125.22978 \r\nL 194.200516 125.232529 \r\nL 194.740886 125.160963 \r\nL 195.281257 125.262493 \r\nL 196.361997 125.147127 \r\nL 197.442738 125.219334 \r\nL 198.523479 125.221349 \r\nL 199.06385 125.289066 \r\nL 200.14459 125.175808 \r\nL 200.684961 125.226389 \r\nL 201.225331 125.09847 \r\nL 202.306072 125.224007 \r\nL 205.548295 125.212828 \r\nL 206.629035 125.160963 \r\nL 207.169406 125.131824 \r\nL 207.709776 125.24609 \r\nL 208.790517 125.13833 \r\nL 209.871258 125.160597 \r\nL 210.951999 125.195692 \r\nL 212.032739 124.854176 \r\nL 213.11348 124.86114 \r\nL 213.653851 124.840431 \r\nL 214.194221 125.160688 \r\nL 239.591631 125.182772 \r\nL 240.672371 125.212186 \r\nL 242.833853 125.144927 \r\nL 243.374224 125.180573 \r\nL 243.914594 124.18159 \r\nL 244.454964 117.622955 \r\nL 244.995335 123.270757 \r\nL 245.535705 124.184522 \r\nL 246.076076 100.511405 \r\nL 246.616446 122.525048 \r\nL 247.156816 123.581943 \r\nL 247.697187 108.835073 \r\nL 248.237557 125.131274 \r\nL 252.02015 125.236835 \r\nL 252.560521 125.028187 \r\nL 253.100891 125.195509 \r\nL 256.883484 125.13384 \r\nL 257.964225 125.13384 \r\nL 259.585336 125.149234 \r\nL 260.125706 46.966747 \r\nL 260.666077 123.288809 \r\nL 261.206447 121.780621 \r\nL 261.746818 114.774268 \r\nL 262.287188 123.549596 \r\nL 262.827559 123.91118 \r\nL 263.367929 123.214586 \r\nL 263.908299 124.818806 \r\nL 264.44867 125.093613 \r\nL 264.98904 125.070247 \r\nL 265.529411 125.203023 \r\nL 266.610151 125.10186 \r\nL 268.231263 125.154824 \r\nL 268.771633 125.072537 \r\nL 269.852374 125.143461 \r\nL 272.013856 125.172601 \r\nL 272.554226 125.093705 \r\nL 273.634967 125.13833 \r\nL 277.41756 125.184238 \r\nL 277.95793 123.414163 \r\nL 278.498301 124.634532 \r\nL 279.038671 120.888665 \r\nL 280.119412 124.527962 \r\nL 281.200153 125.179015 \r\nL 282.280893 125.100669 \r\nL 282.821264 125.195509 \r\nL 284.442375 125.12321 \r\nL 284.982746 125.184788 \r\nL 285.523116 125.10296 \r\nL 286.063486 125.227489 \r\nL 287.144227 125.113039 \r\nL 289.846079 125.103601 \r\nL 290.92682 125.104151 \r\nL 291.467191 125.218417 \r\nL 292.007561 125.077302 \r\nL 292.547931 125.180573 \r\nL 293.088302 125.082525 \r\nL 296.330524 125.229138 \r\nL 297.951636 125.137872 \r\nL 300.113117 125.184421 \r\nL 301.734228 125.134298 \r\nL 302.814969 125.199083 \r\nL 303.89571 125.154824 \r\nL 308.759044 125.163162 \r\nL 310.380155 125.106717 \r\nL 310.920525 124.371911 \r\nL 311.460896 122.540167 \r\nL 312.001266 124.530895 \r\nL 312.541637 124.178107 \r\nL 313.082007 124.696292 \r\nL 313.622378 102.061101 \r\nL 314.162748 124.897702 \r\nL 314.703118 125.180023 \r\nL 317.945341 125.18323 \r\nL 318.485711 125.203115 \r\nL 319.026082 125.086924 \r\nL 323.349045 125.218784 \r\nL 323.889415 125.129167 \r\nL 326.050897 125.149234 \r\nL 328.752749 125.044773 \r\nL 329.29312 66.962905 \r\nL 329.83349 124.728455 \r\nL 330.37386 125.73816 \r\nL 330.914231 125.097003 \r\nL 331.454601 124.990068 \r\nL 332.535342 125.196334 \r\nL 334.696824 125.199907 \r\nL 335.237194 125.11643 \r\nL 337.398676 125.155007 \r\nL 338.479417 125.116338 \r\nL 339.560157 125.170951 \r\nL 343.34275 125.099386 \r\nL 343.883121 125.191385 \r\nL 344.963862 125.130633 \r\nL 345.504232 113.31547 \r\nL 346.044602 109.042804 \r\nL 346.584973 125.73816 \r\nL 347.125343 120.082569 \r\nL 347.665714 110.788231 \r\nL 348.206084 125.73816 \r\nL 348.746455 124.747148 \r\nL 349.286825 125.197342 \r\nL 351.988677 125.077211 \r\nL 353.069418 125.157573 \r\nL 354.690529 125.202473 \r\nL 355.77127 125.15684 \r\nL 357.932752 125.117987 \r\nL 364.417197 125.132924 \r\nL 369.28053 125.139338 \r\nL 371.442012 125.201648 \r\nL 372.522753 125.048163 \r\nL 373.063123 125.15235 \r\nL 376.845716 125.132374 \r\nL 377.386087 125.227947 \r\nL 378.466827 125.110565 \r\nL 379.007198 99.355636 \r\nL 379.547568 34.476245 \r\nL 380.087939 112.894416 \r\nL 380.628309 41.349917 \r\nL 381.168679 13.42411 \r\nL 381.70905 110.460277 \r\nL 382.24942 123.23218 \r\nL 382.789791 61.881393 \r\nL 383.330161 124.532177 \r\nL 383.870532 124.995382 \r\nL 384.410902 125.136864 \r\nL 388.733865 125.195417 \r\nL 389.274236 125.229138 \r\nL 390.354977 125.004179 \r\nL 390.895347 125.176816 \r\nL 391.976088 125.164445 \r\nL 393.597199 125.107724 \r\nL 395.21831 125.187995 \r\nL 396.839421 125.14841 \r\nL 397.379792 119.065901 \r\nL 397.920162 122.106651 \r\nL 398.460533 107.629916 \r\nL 399.000903 119.815642 \r\nL 399.541274 102.455948 \r\nL 400.081644 119.85312 \r\nL 400.622014 117.992512 \r\nL 401.162385 124.910439 \r\nL 401.702755 125.13888 \r\nL 404.404607 125.202198 \r\nL 405.485348 125.12321 \r\nL 407.106459 125.182589 \r\nL 411.429423 125.158581 \r\nL 412.510164 125.141904 \r\nL 414.131275 125.107908 \r\nL 414.671645 124.627751 \r\nL 415.212016 124.696017 \r\nL 415.752386 120.945752 \r\nL 416.292756 124.582576 \r\nL 416.833127 124.678515 \r\nL 417.373497 121.085676 \r\nL 417.913868 124.895777 \r\nL 418.454238 125.103418 \r\nL 422.236831 125.136589 \r\nL 422.777201 125.078127 \r\nL 423.857942 125.181581 \r\nL 426.559794 125.168477 \r\nL 430.882758 125.116246 \r\nL 431.423128 124.992633 \r\nL 431.963498 122.681649 \r\nL 432.503869 113.625006 \r\nL 433.044239 123.118555 \r\nL 433.58461 121.77219 \r\nL 434.12498 123.042683 \r\nL 434.665351 120.990011 \r\nL 435.205721 124.728822 \r\nL 435.746091 125.175625 \r\nL 437.367203 125.082434 \r\nL 437.907573 125.186437 \r\nL 439.528684 125.140163 \r\nL 441.690166 125.146669 \r\nL 444.392018 125.141445 \r\nL 445.472759 125.148868 \r\nL 446.013129 125.089123 \r\nL 447.09387 125.147402 \r\nL 448.174611 125.130908 \r\nL 448.714981 125.000331 \r\nL 449.255352 124.621886 \r\nL 449.795722 124.631416 \r\nL 450.336093 121.696502 \r\nL 450.876463 124.718926 \r\nL 451.416833 124.639113 \r\nL 452.497574 125.149601 \r\nL 454.659056 125.165728 \r\nL 456.280167 125.184971 \r\nL 456.820538 125.141995 \r\nL 457.360908 125.228772 \r\nL 457.901278 125.199358 \r\nL 457.901278 125.199358 \r\n\" style=\"fill:none;stroke:#1f77b4;stroke-linecap:square;stroke-width:1.5;\"/>\r\n   </g>\r\n   <g id=\"line2d_16\">\r\n    <path clip-path=\"url(#p5ba3ecb8aa)\" d=\"M 110.983472 89.084949 \r\nL 111.523842 89.084949 \r\nL 112.064213 89.084949 \r\nL 112.604583 89.084949 \r\nL 113.144954 89.084949 \r\nL 113.685324 89.084949 \r\nL 114.225694 89.084949 \r\nL 114.766065 89.084949 \r\nL 115.306435 89.084949 \r\n\" style=\"fill:none;stroke:#bfbf00;stroke-linecap:square;stroke-width:1.5;\"/>\r\n   </g>\r\n   <g id=\"line2d_17\">\r\n    <path clip-path=\"url(#p5ba3ecb8aa)\" d=\"M 178.529774 89.084949 \r\nL 179.070144 89.084949 \r\nL 179.610515 89.084949 \r\nL 180.150885 89.084949 \r\nL 180.691255 89.084949 \r\nL 181.231626 89.084949 \r\nL 181.771996 89.084949 \r\n\" style=\"fill:none;stroke:#bfbf00;stroke-linecap:square;stroke-width:1.5;\"/>\r\n   </g>\r\n   <g id=\"line2d_18\">\r\n    <path clip-path=\"url(#p5ba3ecb8aa)\" d=\"M 212.032739 89.084949 \r\nL 212.57311 89.084949 \r\nL 213.11348 89.084949 \r\nL 213.653851 89.084949 \r\nL 214.194221 89.084949 \r\n\" style=\"fill:none;stroke:#bfbf00;stroke-linecap:square;stroke-width:1.5;\"/>\r\n   </g>\r\n   <g id=\"line2d_19\">\r\n    <path clip-path=\"url(#p5ba3ecb8aa)\" d=\"M 260.125706 89.084949 \r\nL 260.666077 89.084949 \r\nL 261.206447 89.084949 \r\nL 261.746818 89.084949 \r\nL 262.287188 89.084949 \r\nL 262.827559 89.084949 \r\nL 263.367929 89.084949 \r\nL 263.908299 89.084949 \r\n\" style=\"fill:none;stroke:#bfbf00;stroke-linecap:square;stroke-width:1.5;\"/>\r\n   </g>\r\n   <g id=\"line2d_20\">\r\n    <path clip-path=\"url(#p5ba3ecb8aa)\" d=\"M 277.95793 89.084949 \r\nL 278.498301 89.084949 \r\nL 279.038671 89.084949 \r\nL 279.579041 89.084949 \r\nL 280.119412 89.084949 \r\nL 280.659782 89.084949 \r\n\" style=\"fill:none;stroke:#bfbf00;stroke-linecap:square;stroke-width:1.5;\"/>\r\n   </g>\r\n   <g id=\"line2d_21\">\r\n    <path clip-path=\"url(#p5ba3ecb8aa)\" d=\"M 310.920525 89.084949 \r\nL 311.460896 89.084949 \r\nL 312.001266 89.084949 \r\nL 312.541637 89.084949 \r\nL 313.082007 89.084949 \r\nL 313.622378 89.084949 \r\nL 314.162748 89.084949 \r\n\" style=\"fill:none;stroke:#bfbf00;stroke-linecap:square;stroke-width:1.5;\"/>\r\n   </g>\r\n   <g id=\"line2d_22\">\r\n    <path clip-path=\"url(#p5ba3ecb8aa)\" d=\"M 328.212379 89.084949 \r\nL 328.752749 89.084949 \r\nL 329.29312 89.084949 \r\nL 329.83349 89.084949 \r\nL 330.37386 89.084949 \r\nL 330.914231 89.084949 \r\nL 331.454601 89.084949 \r\n\" style=\"fill:none;stroke:#bfbf00;stroke-linecap:square;stroke-width:1.5;\"/>\r\n   </g>\r\n   <g id=\"line2d_23\">\r\n    <path clip-path=\"url(#p5ba3ecb8aa)\" d=\"M 345.504232 89.084949 \r\nL 346.044602 89.084949 \r\nL 346.584973 89.084949 \r\nL 347.125343 89.084949 \r\nL 347.665714 89.084949 \r\nL 348.206084 89.084949 \r\nL 348.746455 89.084949 \r\n\" style=\"fill:none;stroke:#bfbf00;stroke-linecap:square;stroke-width:1.5;\"/>\r\n   </g>\r\n   <g id=\"line2d_24\">\r\n    <path clip-path=\"url(#p5ba3ecb8aa)\" d=\"M 379.007198 89.084949 \r\nL 379.547568 89.084949 \r\nL 380.087939 89.084949 \r\nL 380.628309 89.084949 \r\nL 381.168679 89.084949 \r\nL 381.70905 89.084949 \r\nL 382.24942 89.084949 \r\nL 382.789791 89.084949 \r\nL 383.330161 89.084949 \r\n\" style=\"fill:none;stroke:#bfbf00;stroke-linecap:square;stroke-width:1.5;\"/>\r\n   </g>\r\n   <g id=\"line2d_25\">\r\n    <path clip-path=\"url(#p5ba3ecb8aa)\" d=\"M 397.379792 89.084949 \r\nL 397.920162 89.084949 \r\nL 398.460533 89.084949 \r\nL 399.000903 89.084949 \r\nL 399.541274 89.084949 \r\nL 400.081644 89.084949 \r\nL 400.622014 89.084949 \r\n\" style=\"fill:none;stroke:#bfbf00;stroke-linecap:square;stroke-width:1.5;\"/>\r\n   </g>\r\n   <g id=\"line2d_26\">\r\n    <path clip-path=\"url(#p5ba3ecb8aa)\" d=\"M 414.671645 89.084949 \r\nL 415.212016 89.084949 \r\nL 415.752386 89.084949 \r\nL 416.292756 89.084949 \r\nL 416.833127 89.084949 \r\nL 417.373497 89.084949 \r\nL 417.913868 89.084949 \r\n\" style=\"fill:none;stroke:#bfbf00;stroke-linecap:square;stroke-width:1.5;\"/>\r\n   </g>\r\n   <g id=\"line2d_27\">\r\n    <path clip-path=\"url(#p5ba3ecb8aa)\" d=\"M 431.963498 89.084949 \r\nL 432.503869 89.084949 \r\nL 433.044239 89.084949 \r\nL 433.58461 89.084949 \r\nL 434.12498 89.084949 \r\nL 434.665351 89.084949 \r\nL 435.205721 89.084949 \r\n\" style=\"fill:none;stroke:#bfbf00;stroke-linecap:square;stroke-width:1.5;\"/>\r\n   </g>\r\n   <g id=\"line2d_28\">\r\n    <path clip-path=\"url(#p5ba3ecb8aa)\" d=\"M 449.255352 89.084949 \r\nL 449.795722 89.084949 \r\nL 450.336093 89.084949 \r\nL 450.876463 89.084949 \r\nL 451.416833 89.084949 \r\nL 451.957204 89.084949 \r\n\" style=\"fill:none;stroke:#bfbf00;stroke-linecap:square;stroke-width:1.5;\"/>\r\n   </g>\r\n   <g id=\"patch_3\">\r\n    <path d=\"M 31.792187 131.353862 \r\nL 31.792187 7.808408 \r\n\" style=\"fill:none;stroke:#000000;stroke-linecap:square;stroke-linejoin:miter;stroke-width:0.8;\"/>\r\n   </g>\r\n   <g id=\"patch_4\">\r\n    <path d=\"M 478.192187 131.353862 \r\nL 478.192187 7.808408 \r\n\" style=\"fill:none;stroke:#000000;stroke-linecap:square;stroke-linejoin:miter;stroke-width:0.8;\"/>\r\n   </g>\r\n   <g id=\"patch_5\">\r\n    <path d=\"M 31.792188 131.353862 \r\nL 478.192187 131.353862 \r\n\" style=\"fill:none;stroke:#000000;stroke-linecap:square;stroke-linejoin:miter;stroke-width:0.8;\"/>\r\n   </g>\r\n   <g id=\"patch_6\">\r\n    <path d=\"M 31.792188 7.808408 \r\nL 478.192187 7.808408 \r\n\" style=\"fill:none;stroke:#000000;stroke-linecap:square;stroke-linejoin:miter;stroke-width:0.8;\"/>\r\n   </g>\r\n  </g>\r\n  <g id=\"axes_2\">\r\n   <g id=\"patch_7\">\r\n    <path d=\"M 31.792187 279.608408 \r\nL 478.192187 279.608408 \r\nL 478.192187 156.062953 \r\nL 31.792187 156.062953 \r\nz\r\n\" style=\"fill:#ffffff;\"/>\r\n   </g>\r\n   <g id=\"matplotlib.axis_3\">\r\n    <g id=\"xtick_9\">\r\n     <g id=\"line2d_29\">\r\n      <g>\r\n       <use style=\"stroke:#000000;stroke-width:0.8;\" x=\"52.083097\" xlink:href=\"#m417107c5b4\" y=\"279.608408\"/>\r\n      </g>\r\n     </g>\r\n     <g id=\"text_15\">\r\n      <!-- 0 -->\r\n      <g transform=\"translate(49.151065 294.602158)scale(0.1 -0.1)\">\r\n       <use xlink:href=\"#MicrosoftYaHei-48\"/>\r\n      </g>\r\n     </g>\r\n    </g>\r\n    <g id=\"xtick_10\">\r\n     <g id=\"line2d_30\">\r\n      <g>\r\n       <use style=\"stroke:#000000;stroke-width:0.8;\" x=\"106.120138\" xlink:href=\"#m417107c5b4\" y=\"279.608408\"/>\r\n      </g>\r\n     </g>\r\n     <g id=\"text_16\">\r\n      <!-- 100 -->\r\n      <g transform=\"translate(97.324044 294.602158)scale(0.1 -0.1)\">\r\n       <use xlink:href=\"#MicrosoftYaHei-49\"/>\r\n       <use x=\"58.642578\" xlink:href=\"#MicrosoftYaHei-48\"/>\r\n       <use x=\"117.285156\" xlink:href=\"#MicrosoftYaHei-48\"/>\r\n      </g>\r\n     </g>\r\n    </g>\r\n    <g id=\"xtick_11\">\r\n     <g id=\"line2d_31\">\r\n      <g>\r\n       <use style=\"stroke:#000000;stroke-width:0.8;\" x=\"160.15718\" xlink:href=\"#m417107c5b4\" y=\"279.608408\"/>\r\n      </g>\r\n     </g>\r\n     <g id=\"text_17\">\r\n      <!-- 200 -->\r\n      <g transform=\"translate(151.361086 294.602158)scale(0.1 -0.1)\">\r\n       <use xlink:href=\"#MicrosoftYaHei-50\"/>\r\n       <use x=\"58.642578\" xlink:href=\"#MicrosoftYaHei-48\"/>\r\n       <use x=\"117.285156\" xlink:href=\"#MicrosoftYaHei-48\"/>\r\n      </g>\r\n     </g>\r\n    </g>\r\n    <g id=\"xtick_12\">\r\n     <g id=\"line2d_32\">\r\n      <g>\r\n       <use style=\"stroke:#000000;stroke-width:0.8;\" x=\"214.194221\" xlink:href=\"#m417107c5b4\" y=\"279.608408\"/>\r\n      </g>\r\n     </g>\r\n     <g id=\"text_18\">\r\n      <!-- 300 -->\r\n      <g transform=\"translate(205.398127 294.602158)scale(0.1 -0.1)\">\r\n       <use xlink:href=\"#MicrosoftYaHei-51\"/>\r\n       <use x=\"58.642578\" xlink:href=\"#MicrosoftYaHei-48\"/>\r\n       <use x=\"117.285156\" xlink:href=\"#MicrosoftYaHei-48\"/>\r\n      </g>\r\n     </g>\r\n    </g>\r\n    <g id=\"xtick_13\">\r\n     <g id=\"line2d_33\">\r\n      <g>\r\n       <use style=\"stroke:#000000;stroke-width:0.8;\" x=\"268.231263\" xlink:href=\"#m417107c5b4\" y=\"279.608408\"/>\r\n      </g>\r\n     </g>\r\n     <g id=\"text_19\">\r\n      <!-- 400 -->\r\n      <g transform=\"translate(259.435169 294.602158)scale(0.1 -0.1)\">\r\n       <use xlink:href=\"#MicrosoftYaHei-52\"/>\r\n       <use x=\"58.642578\" xlink:href=\"#MicrosoftYaHei-48\"/>\r\n       <use x=\"117.285156\" xlink:href=\"#MicrosoftYaHei-48\"/>\r\n      </g>\r\n     </g>\r\n    </g>\r\n    <g id=\"xtick_14\">\r\n     <g id=\"line2d_34\">\r\n      <g>\r\n       <use style=\"stroke:#000000;stroke-width:0.8;\" x=\"322.268304\" xlink:href=\"#m417107c5b4\" y=\"279.608408\"/>\r\n      </g>\r\n     </g>\r\n     <g id=\"text_20\">\r\n      <!-- 500 -->\r\n      <g transform=\"translate(313.47221 294.602158)scale(0.1 -0.1)\">\r\n       <use xlink:href=\"#MicrosoftYaHei-53\"/>\r\n       <use x=\"58.642578\" xlink:href=\"#MicrosoftYaHei-48\"/>\r\n       <use x=\"117.285156\" xlink:href=\"#MicrosoftYaHei-48\"/>\r\n      </g>\r\n     </g>\r\n    </g>\r\n    <g id=\"xtick_15\">\r\n     <g id=\"line2d_35\">\r\n      <g>\r\n       <use style=\"stroke:#000000;stroke-width:0.8;\" x=\"376.305346\" xlink:href=\"#m417107c5b4\" y=\"279.608408\"/>\r\n      </g>\r\n     </g>\r\n     <g id=\"text_21\">\r\n      <!-- 600 -->\r\n      <g transform=\"translate(367.509252 294.602158)scale(0.1 -0.1)\">\r\n       <use xlink:href=\"#MicrosoftYaHei-54\"/>\r\n       <use x=\"58.642578\" xlink:href=\"#MicrosoftYaHei-48\"/>\r\n       <use x=\"117.285156\" xlink:href=\"#MicrosoftYaHei-48\"/>\r\n      </g>\r\n     </g>\r\n    </g>\r\n    <g id=\"xtick_16\">\r\n     <g id=\"line2d_36\">\r\n      <g>\r\n       <use style=\"stroke:#000000;stroke-width:0.8;\" x=\"430.342387\" xlink:href=\"#m417107c5b4\" y=\"279.608408\"/>\r\n      </g>\r\n     </g>\r\n     <g id=\"text_22\">\r\n      <!-- 700 -->\r\n      <g transform=\"translate(421.546293 294.602158)scale(0.1 -0.1)\">\r\n       <use xlink:href=\"#MicrosoftYaHei-55\"/>\r\n       <use x=\"58.642578\" xlink:href=\"#MicrosoftYaHei-48\"/>\r\n       <use x=\"117.285156\" xlink:href=\"#MicrosoftYaHei-48\"/>\r\n      </g>\r\n     </g>\r\n    </g>\r\n   </g>\r\n   <g id=\"matplotlib.axis_4\">\r\n    <g id=\"ytick_7\">\r\n     <g id=\"line2d_37\">\r\n      <g>\r\n       <use style=\"stroke:#000000;stroke-width:0.8;\" x=\"31.792187\" xlink:href=\"#m9248fd8a69\" y=\"273.992705\"/>\r\n      </g>\r\n     </g>\r\n     <g id=\"text_23\">\r\n      <!-- 0.0 -->\r\n      <defs>\r\n       <path d=\"M 5.8125 5.03125 \r\nQ 5.8125 7.671875 7.609375 9.46875 \r\nQ 9.421875 11.28125 12.109375 11.28125 \r\nQ 14.84375 11.28125 16.640625 9.453125 \r\nQ 18.453125 7.625 18.453125 5.03125 \r\nQ 18.453125 2.484375 16.640625 0.65625 \r\nQ 14.84375 -1.171875 12.0625 -1.171875 \r\nQ 9.375 -1.171875 7.59375 0.65625 \r\nQ 5.8125 2.484375 5.8125 5.03125 \r\nz\r\n\" id=\"MicrosoftYaHei-46\"/>\r\n      </defs>\r\n      <g transform=\"translate(10.65625 277.98958)scale(0.1 -0.1)\">\r\n       <use xlink:href=\"#MicrosoftYaHei-48\"/>\r\n       <use x=\"58.642578\" xlink:href=\"#MicrosoftYaHei-46\"/>\r\n       <use x=\"82.714844\" xlink:href=\"#MicrosoftYaHei-48\"/>\r\n      </g>\r\n     </g>\r\n    </g>\r\n    <g id=\"ytick_8\">\r\n     <g id=\"line2d_38\">\r\n      <g>\r\n       <use style=\"stroke:#000000;stroke-width:0.8;\" x=\"31.792187\" xlink:href=\"#m9248fd8a69\" y=\"251.529895\"/>\r\n      </g>\r\n     </g>\r\n     <g id=\"text_24\">\r\n      <!-- 0.2 -->\r\n      <g transform=\"translate(10.65625 255.52677)scale(0.1 -0.1)\">\r\n       <use xlink:href=\"#MicrosoftYaHei-48\"/>\r\n       <use x=\"58.642578\" xlink:href=\"#MicrosoftYaHei-46\"/>\r\n       <use x=\"82.714844\" xlink:href=\"#MicrosoftYaHei-50\"/>\r\n      </g>\r\n     </g>\r\n    </g>\r\n    <g id=\"ytick_9\">\r\n     <g id=\"line2d_39\">\r\n      <g>\r\n       <use style=\"stroke:#000000;stroke-width:0.8;\" x=\"31.792187\" xlink:href=\"#m9248fd8a69\" y=\"229.067085\"/>\r\n      </g>\r\n     </g>\r\n     <g id=\"text_25\">\r\n      <!-- 0.4 -->\r\n      <g transform=\"translate(10.65625 233.06396)scale(0.1 -0.1)\">\r\n       <use xlink:href=\"#MicrosoftYaHei-48\"/>\r\n       <use x=\"58.642578\" xlink:href=\"#MicrosoftYaHei-46\"/>\r\n       <use x=\"82.714844\" xlink:href=\"#MicrosoftYaHei-52\"/>\r\n      </g>\r\n     </g>\r\n    </g>\r\n    <g id=\"ytick_10\">\r\n     <g id=\"line2d_40\">\r\n      <g>\r\n       <use style=\"stroke:#000000;stroke-width:0.8;\" x=\"31.792187\" xlink:href=\"#m9248fd8a69\" y=\"206.604275\"/>\r\n      </g>\r\n     </g>\r\n     <g id=\"text_26\">\r\n      <!-- 0.6 -->\r\n      <g transform=\"translate(10.65625 210.60115)scale(0.1 -0.1)\">\r\n       <use xlink:href=\"#MicrosoftYaHei-48\"/>\r\n       <use x=\"58.642578\" xlink:href=\"#MicrosoftYaHei-46\"/>\r\n       <use x=\"82.714844\" xlink:href=\"#MicrosoftYaHei-54\"/>\r\n      </g>\r\n     </g>\r\n    </g>\r\n    <g id=\"ytick_11\">\r\n     <g id=\"line2d_41\">\r\n      <g>\r\n       <use style=\"stroke:#000000;stroke-width:0.8;\" x=\"31.792187\" xlink:href=\"#m9248fd8a69\" y=\"184.141466\"/>\r\n      </g>\r\n     </g>\r\n     <g id=\"text_27\">\r\n      <!-- 0.8 -->\r\n      <defs>\r\n       <path d=\"M 21.390625 39.796875 \r\nQ 7.859375 46.09375 7.859375 58.0625 \r\nQ 7.859375 66.40625 14.203125 71.65625 \r\nQ 20.5625 76.90625 30.421875 76.90625 \r\nQ 39.453125 76.90625 45.3125 71.96875 \r\nQ 51.171875 67.046875 51.171875 59.234375 \r\nQ 51.171875 46.625 37.0625 39.84375 \r\nL 37.0625 39.65625 \r\nQ 53.609375 33.6875 53.609375 19.34375 \r\nQ 53.609375 9.90625 46.796875 4.3125 \r\nQ 39.984375 -1.265625 27.78125 -1.265625 \r\nQ 17.78125 -1.265625 11.46875 4.25 \r\nQ 5.171875 9.765625 5.171875 18.5625 \r\nQ 5.171875 33.015625 21.390625 39.59375 \r\nz\r\nM 41.5 58.109375 \r\nQ 41.5 63.1875 38.328125 66.109375 \r\nQ 35.15625 69.046875 29.734375 69.046875 \r\nQ 24.65625 69.046875 21.09375 65.984375 \r\nQ 17.53125 62.9375 17.53125 58.203125 \r\nQ 17.53125 48.734375 29.390625 43.796875 \r\nQ 41.5 48.828125 41.5 58.109375 \r\nz\r\nM 28.8125 35.25 \r\nQ 14.796875 29.59375 14.796875 19.046875 \r\nQ 14.796875 13.578125 18.890625 10.0625 \r\nQ 23 6.546875 29.59375 6.546875 \r\nQ 35.984375 6.546875 39.984375 10.03125 \r\nQ 44 13.53125 44 18.75 \r\nQ 44 29.734375 28.8125 35.25 \r\nz\r\n\" id=\"MicrosoftYaHei-56\"/>\r\n      </defs>\r\n      <g transform=\"translate(10.65625 188.138341)scale(0.1 -0.1)\">\r\n       <use xlink:href=\"#MicrosoftYaHei-48\"/>\r\n       <use x=\"58.642578\" xlink:href=\"#MicrosoftYaHei-46\"/>\r\n       <use x=\"82.714844\" xlink:href=\"#MicrosoftYaHei-56\"/>\r\n      </g>\r\n     </g>\r\n    </g>\r\n    <g id=\"ytick_12\">\r\n     <g id=\"line2d_42\">\r\n      <g>\r\n       <use style=\"stroke:#000000;stroke-width:0.8;\" x=\"31.792187\" xlink:href=\"#m9248fd8a69\" y=\"161.678656\"/>\r\n      </g>\r\n     </g>\r\n     <g id=\"text_28\">\r\n      <!-- 1.0 -->\r\n      <g transform=\"translate(10.65625 165.675531)scale(0.1 -0.1)\">\r\n       <use xlink:href=\"#MicrosoftYaHei-49\"/>\r\n       <use x=\"58.642578\" xlink:href=\"#MicrosoftYaHei-46\"/>\r\n       <use x=\"82.714844\" xlink:href=\"#MicrosoftYaHei-48\"/>\r\n      </g>\r\n     </g>\r\n    </g>\r\n   </g>\r\n   <g id=\"line2d_43\">\r\n    <path clip-path=\"url(#p24d6199401)\" d=\"M 52.083097 161.678656 \r\nL 69.91532 161.678656 \r\nL 70.455691 161.914514 \r\nL 70.996061 161.678656 \r\nL 73.157543 161.678656 \r\nL 73.697913 161.892054 \r\nL 74.238284 161.678656 \r\nL 89.368655 161.678656 \r\nL 89.909026 161.880821 \r\nL 90.449396 161.678656 \r\nL 109.362361 161.678656 \r\nL 109.902731 185.747554 \r\nL 110.443101 184.141464 \r\nL 110.983472 209.816459 \r\nL 111.523842 161.678656 \r\nL 112.064213 199.112928 \r\nL 112.604583 161.678656 \r\nL 113.144954 187.88152 \r\nL 113.685324 161.678656 \r\nL 114.225694 161.678656 \r\nL 114.766065 199.112928 \r\nL 115.306435 161.678656 \r\nL 128.275325 161.678656 \r\nL 128.815696 163.981094 \r\nL 129.356066 161.678656 \r\nL 134.75977 161.678656 \r\nL 135.300141 161.892054 \r\nL 135.840511 161.678656 \r\nL 144.486438 161.678656 \r\nL 145.026808 161.925747 \r\nL 145.567178 161.678656 \r\nL 160.69755 161.678656 \r\nL 161.23792 163.801389 \r\nL 161.778291 161.678656 \r\nL 177.989403 161.678656 \r\nL 178.529774 162.341311 \r\nL 179.070144 162.240225 \r\nL 179.610515 161.678656 \r\nL 180.150885 161.678656 \r\nL 180.691255 163.251052 \r\nL 181.231626 161.678656 \r\nL 210.951999 161.678656 \r\nL 211.492369 216.072352 \r\nL 212.032739 217.150565 \r\nL 212.57311 218.554489 \r\nL 213.11348 217.633515 \r\nL 213.653851 218.240011 \r\nL 214.194221 166.991108 \r\nL 214.734592 161.678656 \r\nL 243.374224 161.678656 \r\nL 243.914594 162.375004 \r\nL 244.454964 161.678656 \r\nL 244.995335 162.52101 \r\nL 245.535705 161.678656 \r\nL 246.076076 184.141464 \r\nL 246.616446 163.363365 \r\nL 247.697187 161.678656 \r\nL 260.125706 161.678656 \r\nL 260.666077 167.182047 \r\nL 261.206447 161.678656 \r\nL 261.746818 193.766782 \r\nL 262.287188 162.341311 \r\nL 262.827559 164.654976 \r\nL 263.367929 161.678656 \r\nL 279.038671 161.678656 \r\nL 279.579041 162.307612 \r\nL 280.119412 161.678656 \r\nL 329.83349 161.678656 \r\nL 330.37386 273.992705 \r\nL 330.914231 161.678656 \r\nL 344.963862 161.678656 \r\nL 345.504232 263.120705 \r\nL 346.044602 250.597689 \r\nL 346.584973 273.992705 \r\nL 347.125343 270.364961 \r\nL 347.665714 268.377003 \r\nL 348.206084 273.992705 \r\nL 348.746455 164.441584 \r\nL 349.286825 161.678656 \r\nL 378.466827 161.678656 \r\nL 379.007198 194.283426 \r\nL 379.547568 161.678656 \r\nL 380.087939 199.112928 \r\nL 380.628309 172.910063 \r\nL 381.168679 161.678656 \r\nL 381.70905 204.874637 \r\nL 382.24942 217.83568 \r\nL 382.789791 161.678656 \r\nL 383.330161 164.407885 \r\nL 383.870532 161.678656 \r\nL 399.541274 161.678656 \r\nL 400.081644 163.217359 \r\nL 400.622014 161.678656 \r\nL 401.162385 161.914514 \r\nL 401.702755 161.678656 \r\nL 431.423128 161.678656 \r\nL 431.963498 163.509377 \r\nL 432.503869 177.728332 \r\nL 433.044239 162.273918 \r\nL 433.58461 161.678656 \r\nL 434.12498 162.262692 \r\nL 434.665351 161.678656 \r\nL 435.205721 161.903281 \r\nL 435.746091 161.678656 \r\nL 457.901278 161.678656 \r\nL 457.901278 161.678656 \r\n\" style=\"fill:none;stroke:#ff0000;stroke-linecap:square;stroke-width:1.5;\"/>\r\n   </g>\r\n   <g id=\"line2d_44\">\r\n    <path clip-path=\"url(#p24d6199401)\" d=\"M 110.983472 217.83568 \r\nL 111.523842 217.83568 \r\nL 112.064213 217.83568 \r\nL 112.604583 217.83568 \r\nL 113.144954 217.83568 \r\nL 113.685324 217.83568 \r\nL 114.225694 217.83568 \r\nL 114.766065 217.83568 \r\nL 115.306435 217.83568 \r\n\" style=\"fill:none;stroke:#bfbf00;stroke-linecap:square;stroke-width:1.5;\"/>\r\n   </g>\r\n   <g id=\"line2d_45\">\r\n    <path clip-path=\"url(#p24d6199401)\" d=\"M 178.529774 217.83568 \r\nL 179.070144 217.83568 \r\nL 179.610515 217.83568 \r\nL 180.150885 217.83568 \r\nL 180.691255 217.83568 \r\nL 181.231626 217.83568 \r\nL 181.771996 217.83568 \r\n\" style=\"fill:none;stroke:#bfbf00;stroke-linecap:square;stroke-width:1.5;\"/>\r\n   </g>\r\n   <g id=\"line2d_46\">\r\n    <path clip-path=\"url(#p24d6199401)\" d=\"M 212.032739 217.83568 \r\nL 212.57311 217.83568 \r\nL 213.11348 217.83568 \r\nL 213.653851 217.83568 \r\nL 214.194221 217.83568 \r\n\" style=\"fill:none;stroke:#bfbf00;stroke-linecap:square;stroke-width:1.5;\"/>\r\n   </g>\r\n   <g id=\"line2d_47\">\r\n    <path clip-path=\"url(#p24d6199401)\" d=\"M 260.125706 217.83568 \r\nL 260.666077 217.83568 \r\nL 261.206447 217.83568 \r\nL 261.746818 217.83568 \r\nL 262.287188 217.83568 \r\nL 262.827559 217.83568 \r\nL 263.367929 217.83568 \r\nL 263.908299 217.83568 \r\n\" style=\"fill:none;stroke:#bfbf00;stroke-linecap:square;stroke-width:1.5;\"/>\r\n   </g>\r\n   <g id=\"line2d_48\">\r\n    <path clip-path=\"url(#p24d6199401)\" d=\"M 277.95793 217.83568 \r\nL 278.498301 217.83568 \r\nL 279.038671 217.83568 \r\nL 279.579041 217.83568 \r\nL 280.119412 217.83568 \r\nL 280.659782 217.83568 \r\n\" style=\"fill:none;stroke:#bfbf00;stroke-linecap:square;stroke-width:1.5;\"/>\r\n   </g>\r\n   <g id=\"line2d_49\">\r\n    <path clip-path=\"url(#p24d6199401)\" d=\"M 310.920525 217.83568 \r\nL 311.460896 217.83568 \r\nL 312.001266 217.83568 \r\nL 312.541637 217.83568 \r\nL 313.082007 217.83568 \r\nL 313.622378 217.83568 \r\nL 314.162748 217.83568 \r\n\" style=\"fill:none;stroke:#bfbf00;stroke-linecap:square;stroke-width:1.5;\"/>\r\n   </g>\r\n   <g id=\"line2d_50\">\r\n    <path clip-path=\"url(#p24d6199401)\" d=\"M 328.212379 217.83568 \r\nL 328.752749 217.83568 \r\nL 329.29312 217.83568 \r\nL 329.83349 217.83568 \r\nL 330.37386 217.83568 \r\nL 330.914231 217.83568 \r\nL 331.454601 217.83568 \r\n\" style=\"fill:none;stroke:#bfbf00;stroke-linecap:square;stroke-width:1.5;\"/>\r\n   </g>\r\n   <g id=\"line2d_51\">\r\n    <path clip-path=\"url(#p24d6199401)\" d=\"M 345.504232 217.83568 \r\nL 346.044602 217.83568 \r\nL 346.584973 217.83568 \r\nL 347.125343 217.83568 \r\nL 347.665714 217.83568 \r\nL 348.206084 217.83568 \r\nL 348.746455 217.83568 \r\n\" style=\"fill:none;stroke:#bfbf00;stroke-linecap:square;stroke-width:1.5;\"/>\r\n   </g>\r\n   <g id=\"line2d_52\">\r\n    <path clip-path=\"url(#p24d6199401)\" d=\"M 379.007198 217.83568 \r\nL 379.547568 217.83568 \r\nL 380.087939 217.83568 \r\nL 380.628309 217.83568 \r\nL 381.168679 217.83568 \r\nL 381.70905 217.83568 \r\nL 382.24942 217.83568 \r\nL 382.789791 217.83568 \r\nL 383.330161 217.83568 \r\n\" style=\"fill:none;stroke:#bfbf00;stroke-linecap:square;stroke-width:1.5;\"/>\r\n   </g>\r\n   <g id=\"line2d_53\">\r\n    <path clip-path=\"url(#p24d6199401)\" d=\"M 397.379792 217.83568 \r\nL 397.920162 217.83568 \r\nL 398.460533 217.83568 \r\nL 399.000903 217.83568 \r\nL 399.541274 217.83568 \r\nL 400.081644 217.83568 \r\nL 400.622014 217.83568 \r\n\" style=\"fill:none;stroke:#bfbf00;stroke-linecap:square;stroke-width:1.5;\"/>\r\n   </g>\r\n   <g id=\"line2d_54\">\r\n    <path clip-path=\"url(#p24d6199401)\" d=\"M 414.671645 217.83568 \r\nL 415.212016 217.83568 \r\nL 415.752386 217.83568 \r\nL 416.292756 217.83568 \r\nL 416.833127 217.83568 \r\nL 417.373497 217.83568 \r\nL 417.913868 217.83568 \r\n\" style=\"fill:none;stroke:#bfbf00;stroke-linecap:square;stroke-width:1.5;\"/>\r\n   </g>\r\n   <g id=\"line2d_55\">\r\n    <path clip-path=\"url(#p24d6199401)\" d=\"M 431.963498 217.83568 \r\nL 432.503869 217.83568 \r\nL 433.044239 217.83568 \r\nL 433.58461 217.83568 \r\nL 434.12498 217.83568 \r\nL 434.665351 217.83568 \r\nL 435.205721 217.83568 \r\n\" style=\"fill:none;stroke:#bfbf00;stroke-linecap:square;stroke-width:1.5;\"/>\r\n   </g>\r\n   <g id=\"line2d_56\">\r\n    <path clip-path=\"url(#p24d6199401)\" d=\"M 449.255352 217.83568 \r\nL 449.795722 217.83568 \r\nL 450.336093 217.83568 \r\nL 450.876463 217.83568 \r\nL 451.416833 217.83568 \r\nL 451.957204 217.83568 \r\n\" style=\"fill:none;stroke:#bfbf00;stroke-linecap:square;stroke-width:1.5;\"/>\r\n   </g>\r\n   <g id=\"patch_8\">\r\n    <path d=\"M 31.792187 279.608408 \r\nL 31.792187 156.062953 \r\n\" style=\"fill:none;stroke:#000000;stroke-linecap:square;stroke-linejoin:miter;stroke-width:0.8;\"/>\r\n   </g>\r\n   <g id=\"patch_9\">\r\n    <path d=\"M 478.192187 279.608408 \r\nL 478.192187 156.062953 \r\n\" style=\"fill:none;stroke:#000000;stroke-linecap:square;stroke-linejoin:miter;stroke-width:0.8;\"/>\r\n   </g>\r\n   <g id=\"patch_10\">\r\n    <path d=\"M 31.792188 279.608408 \r\nL 478.192187 279.608408 \r\n\" style=\"fill:none;stroke:#000000;stroke-linecap:square;stroke-linejoin:miter;stroke-width:0.8;\"/>\r\n   </g>\r\n   <g id=\"patch_11\">\r\n    <path d=\"M 31.792188 156.062953 \r\nL 478.192187 156.062953 \r\n\" style=\"fill:none;stroke:#000000;stroke-linecap:square;stroke-linejoin:miter;stroke-width:0.8;\"/>\r\n   </g>\r\n  </g>\r\n </g>\r\n <defs>\r\n  <clipPath id=\"p5ba3ecb8aa\">\r\n   <rect height=\"123.545455\" width=\"446.4\" x=\"31.792187\" y=\"7.808408\"/>\r\n  </clipPath>\r\n  <clipPath id=\"p24d6199401\">\r\n   <rect height=\"123.545455\" width=\"446.4\" x=\"31.792187\" y=\"156.062953\"/>\r\n  </clipPath>\r\n </defs>\r\n</svg>\r\n",
      "image/png": "[encoded data removed]"
     },
     "metadata": {
      "needs_background": "light"
     }
    }
   ],
   "source": [
    "# 调用链指标,平台指标,数据说明\n",
    "# importlib.reload(anomaly_detection)\n",
    "plat_paths = [os.path.join(data_path.get_data_path(day),\"平台指标\") for day in days]\n",
    "interval_times,is_net_error,fault_ids = get_abnormal_interval(days)\n",
    "# print(fault_ids)"
   ]
  },
  {
   "cell_type": "code",
   "execution_count": 7,
   "metadata": {},
   "outputs": [
    {
     "ename": "NameError",
     "evalue": "name 'days' is not defined",
     "output_type": "error",
     "traceback": [
      "\u001b[1;31m---------------------------------------------------------------------------\u001b[0m",
      "\u001b[1;31mNameError\u001b[0m                                 Traceback (most recent call last)",
      "\u001b[1;32m<ipython-input-7-bb46f11c5910>\u001b[0m in \u001b[0;36m<module>\u001b[1;34m\u001b[0m\n\u001b[0;32m      1\u001b[0m \u001b[1;31m# todo step2 获取所有trace\u001b[0m\u001b[1;33m\u001b[0m\u001b[1;33m\u001b[0m\u001b[1;33m\u001b[0m\u001b[0m\n\u001b[0;32m      2\u001b[0m \u001b[0mtraces\u001b[0m \u001b[1;33m=\u001b[0m \u001b[1;33m{\u001b[0m\u001b[1;33m}\u001b[0m\u001b[1;33m\u001b[0m\u001b[1;33m\u001b[0m\u001b[0m\n\u001b[1;32m----> 3\u001b[1;33m \u001b[1;32mfor\u001b[0m \u001b[0mday\u001b[0m \u001b[1;32min\u001b[0m \u001b[0mdays\u001b[0m\u001b[1;33m:\u001b[0m\u001b[1;33m\u001b[0m\u001b[1;33m\u001b[0m\u001b[0m\n\u001b[0m\u001b[0;32m      4\u001b[0m     \u001b[0mprex_path\u001b[0m \u001b[1;33m=\u001b[0m \u001b[0mdata_path\u001b[0m\u001b[1;33m.\u001b[0m\u001b[0mget_data_path\u001b[0m\u001b[1;33m(\u001b[0m\u001b[0mday\u001b[0m\u001b[1;33m)\u001b[0m\u001b[1;33m\u001b[0m\u001b[1;33m\u001b[0m\u001b[0m\n\u001b[0;32m      5\u001b[0m     \u001b[0mtrace_p\u001b[0m \u001b[1;33m=\u001b[0m \u001b[0mos\u001b[0m\u001b[1;33m.\u001b[0m\u001b[0mpath\u001b[0m\u001b[1;33m.\u001b[0m\u001b[0mjoin\u001b[0m\u001b[1;33m(\u001b[0m\u001b[0mprex_path\u001b[0m\u001b[1;33m,\u001b[0m\u001b[1;34m\"调用链指标\"\u001b[0m\u001b[1;33m)\u001b[0m\u001b[1;33m\u001b[0m\u001b[1;33m\u001b[0m\u001b[0m\n",
      "\u001b[1;31mNameError\u001b[0m: name 'days' is not defined"
     ]
    }
   ],
   "source": [
    "# todo step2 获取所有trace\n",
    "traces = {}\n",
    "for day in days:\n",
    "    prex_path = data_path.get_data_path(day)\n",
    "    trace_p = os.path.join(prex_path,\"调用链指标\")\n",
    "    data_cleaning.build_trace(trace_p,traces)"
   ]
  },
  {
   "cell_type": "code",
   "execution_count": 8,
   "metadata": {},
   "outputs": [
    {
     "ename": "NameError",
     "evalue": "name 'interval_times' is not defined",
     "output_type": "error",
     "traceback": [
      "\u001b[1;31m---------------------------------------------------------------------------\u001b[0m",
      "\u001b[1;31mNameError\u001b[0m                                 Traceback (most recent call last)",
      "\u001b[1;32m<ipython-input-8-b436c0444e46>\u001b[0m in \u001b[0;36m<module>\u001b[1;34m\u001b[0m\n\u001b[0;32m      1\u001b[0m \u001b[0mabnormal_cmdb_all\u001b[0m \u001b[1;33m=\u001b[0m \u001b[1;33m[\u001b[0m\u001b[1;33m]\u001b[0m\u001b[1;33m\u001b[0m\u001b[1;33m\u001b[0m\u001b[0m\n\u001b[0;32m      2\u001b[0m \u001b[1;31m# 结果\u001b[0m\u001b[1;33m\u001b[0m\u001b[1;33m\u001b[0m\u001b[1;33m\u001b[0m\u001b[0m\n\u001b[1;32m----> 3\u001b[1;33m \u001b[0mresult\u001b[0m \u001b[1;33m=\u001b[0m \u001b[1;33m[\u001b[0m \u001b[1;36m0\u001b[0m \u001b[1;32mfor\u001b[0m \u001b[0m_\u001b[0m \u001b[1;32min\u001b[0m \u001b[0mrange\u001b[0m\u001b[1;33m(\u001b[0m\u001b[0mlen\u001b[0m\u001b[1;33m(\u001b[0m\u001b[0minterval_times\u001b[0m\u001b[1;33m)\u001b[0m\u001b[1;33m)\u001b[0m\u001b[1;33m]\u001b[0m\u001b[1;33m\u001b[0m\u001b[1;33m\u001b[0m\u001b[0m\n\u001b[0m\u001b[0;32m      4\u001b[0m \u001b[1;31m#? 遍历每一个时间端\u001b[0m\u001b[1;33m\u001b[0m\u001b[1;33m\u001b[0m\u001b[1;33m\u001b[0m\u001b[0m\n\u001b[0;32m      5\u001b[0m \u001b[1;32mfor\u001b[0m \u001b[0mi\u001b[0m \u001b[1;32min\u001b[0m \u001b[0mrange\u001b[0m\u001b[1;33m(\u001b[0m\u001b[0mlen\u001b[0m\u001b[1;33m(\u001b[0m\u001b[0minterval_times\u001b[0m\u001b[1;33m)\u001b[0m\u001b[1;33m)\u001b[0m\u001b[1;33m:\u001b[0m\u001b[1;33m\u001b[0m\u001b[1;33m\u001b[0m\u001b[0m\n",
      "\u001b[1;31mNameError\u001b[0m: name 'interval_times' is not defined"
     ]
    }
   ],
   "source": [
    "abnormal_cmdb_all = []\n",
    "# 结果\n",
    "result = [ 0 for _ in range(len(interval_times))]\n",
    "#? 遍历每一个时间端\n",
    "for i in range(len(interval_times)):\n",
    "    # 异常时间区间\n",
    "    execption_Interval = interval_times[i]\n",
    "    # 异常指标\n",
    "    abnormal_indicators = []\n",
    "    # todo step3 找出这段时间内的trace\n",
    "    abnormal_traces = find_abnormal_trace(execption_Interval, traces)\n",
    "    # 如果是网络故障\n",
    "    # print(is_net_error[i])\n",
    "    is_net_error[i] = False\n",
    "    if is_net_error[i]:\n",
    "        #do something\n",
    "        net_error_cmdb_id = network.locate_net_error(abnormal_traces)\n",
    "        abnormal_cmdb_all.append(net_error_cmdb_id)\n",
    "        abnormal_indicators.append( net_error_cmdb_id )\n",
    "    else :\n",
    "        # abnormal_traces trace 中定位到具的体节点，即cmdb_id\n",
    "        abnormal_cmdb_ids = list(set(network.locate_net_error(abnormal_traces)))\n",
    "        # todo step4 找出异常数据中的异常节点\n",
    "        for trace in abnormal_traces:\n",
    "            abnormal_cmdb_ids += find_abnormal_span(trace)\n",
    "        # 去重\n",
    "        abnormal_cmdb_ids = list(set(abnormal_cmdb_ids))\n",
    "        \n",
    "        abnormal_cmdb_all.append(abnormal_cmdb_ids)\n",
    "        # todo step5 判断网元节点中是哪个指标有异常\n",
    "        for cmdb_id in abnormal_cmdb_ids:\n",
    "            # ? 找到异常指标c \n",
    "            abnormal_indicators.extend(find_abnormal_indicators(\n",
    "                execption_Interval, cmdb_id,plat_paths))\n",
    "            print(execption_Interval, cmdb_id)\n",
    "        # 对得到的异常指标进行排序\n",
    "        abnormal_indicators = sorted(\n",
    "            abnormal_indicators, key=lambda x: x[-1], reverse=True)[:left_n]\n",
    "        if len(abnormal_indicators) !=0 and int(abnormal_indicators[0][-1])==0:\n",
    "            abnormal_indicators = [abnormal_cmdb_ids]\n",
    "    result[i] = np.array(abnormal_indicators)\n",
    "\n",
    "\n",
    "for i in abnormal_cmdb_all:\n",
    "    print(i)"
   ]
  },
  {
   "cell_type": "code",
   "execution_count": 9,
   "metadata": {},
   "outputs": [
    {
     "ename": "NameError",
     "evalue": "name 'result' is not defined",
     "output_type": "error",
     "traceback": [
      "\u001b[1;31m---------------------------------------------------------------------------\u001b[0m",
      "\u001b[1;31mNameError\u001b[0m                                 Traceback (most recent call last)",
      "\u001b[1;32m<ipython-input-9-c6d5be6cdab8>\u001b[0m in \u001b[0;36m<module>\u001b[1;34m\u001b[0m\n\u001b[1;32m----> 1\u001b[1;33m \u001b[0mprint\u001b[0m\u001b[1;33m(\u001b[0m\u001b[0mlen\u001b[0m\u001b[1;33m(\u001b[0m\u001b[0mresult\u001b[0m\u001b[1;33m)\u001b[0m\u001b[1;33m)\u001b[0m\u001b[1;33m\u001b[0m\u001b[1;33m\u001b[0m\u001b[0m\n\u001b[0m\u001b[0;32m      2\u001b[0m \u001b[1;31m# for i in result:\u001b[0m\u001b[1;33m\u001b[0m\u001b[1;33m\u001b[0m\u001b[1;33m\u001b[0m\u001b[0m\n\u001b[0;32m      3\u001b[0m \u001b[1;31m#     print(i)\u001b[0m\u001b[1;33m\u001b[0m\u001b[1;33m\u001b[0m\u001b[1;33m\u001b[0m\u001b[0m\n\u001b[0;32m      4\u001b[0m \u001b[0msave_path\u001b[0m \u001b[1;33m=\u001b[0m \u001b[0mdata_path\u001b[0m\u001b[1;33m.\u001b[0m\u001b[0mget_save_path\u001b[0m\u001b[1;33m(\u001b[0m\u001b[1;33m)\u001b[0m\u001b[1;33m\u001b[0m\u001b[1;33m\u001b[0m\u001b[0m\n\u001b[0;32m      5\u001b[0m \u001b[1;32mif\u001b[0m \u001b[1;32mnot\u001b[0m \u001b[0mos\u001b[0m\u001b[1;33m.\u001b[0m\u001b[0mpath\u001b[0m\u001b[1;33m.\u001b[0m\u001b[0mexists\u001b[0m\u001b[1;33m(\u001b[0m\u001b[0msave_path\u001b[0m\u001b[1;33m)\u001b[0m\u001b[1;33m:\u001b[0m\u001b[1;33m\u001b[0m\u001b[1;33m\u001b[0m\u001b[0m\n",
      "\u001b[1;31mNameError\u001b[0m: name 'result' is not defined"
     ]
    }
   ],
   "source": [
    "print(len(result))\n",
    "# for i in result:\n",
    "#     print(i)\n",
    "save_path = data_path.get_save_path()\n",
    "if not os.path.exists(save_path):\n",
    "    os.mkdir(save_path)\n",
    "with open(os.path.join(save_path,\"result_\"+days[0]), 'w') as f:\n",
    "    for fault_id, r in zip(fault_ids,result):\n",
    "        f.write(str(fault_id)+\":\\n\")\n",
    "        for o in r:\n",
    "            f.write(str(o)+'\\n')\n",
    "resultForm.resultForm(result,\"result_\"+days[0],fault_ids)\n",
    "\n",
    "answer = to_standard_answer(result,fault_ids)\n",
    "with open(os.path.join(save_path,\"answer_\"+days[0]+\".json\"), 'w') as f:\n",
    "    js = json.dumps(answer, indent=2)\n",
    "    f.write(js)"
   ]
  },
  {
   "cell_type": "code",
   "execution_count": null,
   "metadata": {},
   "outputs": [],
   "source": []
  }
 ],
 "metadata": {
  "kernelspec": {
   "display_name": "Python 3",
   "language": "python",
   "name": "python3"
  },
  "language_info": {
   "codemirror_mode": {
    "name": "ipython",
    "version": 3
   },
   "file_extension": ".py",
   "mimetype": "text/x-python",
   "name": "python",
   "nbconvert_exporter": "python",
   "pygments_lexer": "ipython3",
   "version": "3.7.3-final"
  }
 },
 "nbformat": 4,
 "nbformat_minor": 4
}